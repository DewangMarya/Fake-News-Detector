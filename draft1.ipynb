{
 "cells": [
  {
   "cell_type": "code",
   "execution_count": 22,
   "metadata": {},
   "outputs": [],
   "source": [
    "import pandas as pd\n",
    "from sklearn.model_selection import train_test_split\n",
    "from tensorflow.keras.models import Sequential\n",
    "from tensorflow.keras.layers import Dense, Embedding, LSTM, SpatialDropout1D\n",
    "from tensorflow.keras.preprocessing.text import Tokenizer\n",
    "from tensorflow.keras.preprocessing.sequence import pad_sequences\n",
    "from tensorflow.keras.utils import to_categorical\n",
    "from tensorflow.keras.callbacks import EarlyStopping, ModelCheckpoint"
   ]
  },
  {
   "cell_type": "code",
   "execution_count": 23,
   "metadata": {},
   "outputs": [],
   "source": [
    "df = pd.read_csv('dataset.csv') # load dataset\n",
    "df=df.dropna() #dropping rows with missing values"
   ]
  },
  {
   "cell_type": "code",
   "execution_count": 24,
   "metadata": {},
   "outputs": [],
   "source": [
    "# Since the scope of our project is smaller than similar projects, we will be setting limits\n",
    "max_words = 5000\n",
    "max_length = 100\n",
    "\n",
    "tokenizer = Tokenizer(num_words=max_words)\n",
    "# With this, we are trying to update the vocabulary based on the word frequency\n",
    "tokenizer.fit_on_texts(df['title'])\n",
    "# Since neural networks require inputs of the same shape, we need to make sure we have padding\n",
    "sequences = tokenizer.texts_to_sequences(df['title'])\n",
    "X = pad_sequences(sequences, maxlen=max_length)\n",
    "y = to_categorical(df['label'])"
   ]
  },
  {
   "cell_type": "code",
   "execution_count": 25,
   "metadata": {},
   "outputs": [],
   "source": [
    "# Here, we're going to split the dataset into training and testing sets\n",
    "X_train, X_test, y_train, y_test = train_test_split(X, y, test_size=0.2, random_state=42)\n",
    "\n",
    "# This is where we're trying to build the model\n",
    "model = Sequential()\n",
    "model.add(Embedding(max_words, 50, input_length=max_length))\n",
    "model.add(SpatialDropout1D(0.2))\n",
    "model.add(LSTM(100, dropout=0.2, recurrent_dropout=0.2))\n",
    "# Softmax is a mathematical function that takes a vector of real numbers as input and transforms it into a probability  distribution\n",
    "# Reference - https://deepai.org/machine-learning-glossary-and-terms/softmax-layer\n",
    "model.add(Dense(2, activation='softmax'))\n",
    "model.compile(loss='categorical_crossentropy', optimizer='adam', metrics=['accuracy'])"
   ]
  },
  {
   "cell_type": "code",
   "execution_count": 26,
   "metadata": {},
   "outputs": [],
   "source": [
    "# Callbacks for early stopping and saving the best model\n",
    "early_stopping = EarlyStopping(monitor='val_accuracy', patience=3, verbose=1, mode='max', restore_best_weights=True)"
   ]
  },
  {
   "cell_type": "code",
   "execution_count": 27,
   "metadata": {},
   "outputs": [
    {
     "name": "stdout",
     "output_type": "stream",
     "text": [
      "Epoch 1/15\n",
      "18/18 [==============================] - 3s 54ms/step - loss: 0.6802 - accuracy: 0.5967 - val_loss: 0.6692 - val_accuracy: 0.6066\n",
      "Epoch 2/15\n",
      "18/18 [==============================] - 1s 39ms/step - loss: 0.5672 - accuracy: 0.7372 - val_loss: 0.6727 - val_accuracy: 0.6557\n",
      "Epoch 3/15\n",
      "18/18 [==============================] - 1s 39ms/step - loss: 0.4267 - accuracy: 0.8102 - val_loss: 0.5488 - val_accuracy: 0.7541\n",
      "Epoch 4/15\n",
      "18/18 [==============================] - 1s 39ms/step - loss: 0.2713 - accuracy: 0.8960 - val_loss: 0.4198 - val_accuracy: 0.8197\n",
      "Epoch 5/15\n",
      "18/18 [==============================] - 1s 40ms/step - loss: 0.1325 - accuracy: 0.9580 - val_loss: 0.3475 - val_accuracy: 0.8197\n",
      "Epoch 6/15\n",
      "18/18 [==============================] - 1s 40ms/step - loss: 0.0742 - accuracy: 0.9781 - val_loss: 0.2707 - val_accuracy: 0.8525\n",
      "Epoch 7/15\n",
      "18/18 [==============================] - 1s 39ms/step - loss: 0.0636 - accuracy: 0.9872 - val_loss: 0.3165 - val_accuracy: 0.8033\n",
      "Epoch 8/15\n",
      "18/18 [==============================] - 1s 39ms/step - loss: 0.0488 - accuracy: 0.9836 - val_loss: 0.2784 - val_accuracy: 0.9016\n",
      "Epoch 9/15\n",
      "18/18 [==============================] - 1s 39ms/step - loss: 0.0311 - accuracy: 0.9945 - val_loss: 0.2936 - val_accuracy: 0.8689\n",
      "Epoch 10/15\n",
      "18/18 [==============================] - 1s 39ms/step - loss: 0.0229 - accuracy: 0.9927 - val_loss: 0.2853 - val_accuracy: 0.8689\n",
      "Epoch 11/15\n",
      "17/18 [===========================>..] - ETA: 0s - loss: 0.0167 - accuracy: 0.9945Restoring model weights from the end of the best epoch: 8.\n",
      "18/18 [==============================] - 1s 39ms/step - loss: 0.0168 - accuracy: 0.9945 - val_loss: 0.2922 - val_accuracy: 0.8689\n",
      "Epoch 11: early stopping\n",
      "5/5 [==============================] - 0s 11ms/step - loss: 0.4442 - accuracy: 0.8301\n",
      "Accuracy: 0.8300653696060181\n"
     ]
    }
   ],
   "source": [
    "\n",
    "\n",
    "# This is where we're trying to train the model\n",
    "batch_size = 32\n",
    "epochs = 15\n",
    "model.fit(X_train, y_train, epochs=epochs, batch_size=batch_size, validation_split=0.1, callbacks=[early_stopping])\n",
    "\n",
    "# Here, we try to evaluate the model\n",
    "loss, accuracy = model.evaluate(X_test, y_test)\n",
    "print(f'Accuracy: {accuracy}')"
   ]
  },
  {
   "cell_type": "code",
   "execution_count": 28,
   "metadata": {},
   "outputs": [
    {
     "name": "stdout",
     "output_type": "stream",
     "text": [
      "1/1 [==============================] - 0s 183ms/step\n",
      "Predicted Probabilities: [[0.8778616  0.12213831]]\n",
      "Predicted Classes: [0]\n"
     ]
    }
   ],
   "source": [
    "# Make predictions on new data\n",
    "new_data = [\"The news headline (fake or not)\"]\n",
    "new_data_sequences = tokenizer.texts_to_sequences(new_data)\n",
    "new_data_padded = pad_sequences(new_data_sequences, maxlen=max_length)\n",
    "predictions = model.predict(new_data_padded)\n",
    "\n",
    "# This is to print the predicted class probabilities\n",
    "print(f'Predicted Probabilities: {predictions}')\n",
    "\n",
    "# This is to convert predicted probabilities to class labels (fake or true)\n",
    "predicted_classes = [1 if prob[1] > prob[0] else 0 for prob in predictions]\n",
    "print(f'Predicted Classes: {predicted_classes}')"
   ]
  }
 ],
 "metadata": {
  "kernelspec": {
   "display_name": "Python 3",
   "language": "python",
   "name": "python3"
  },
  "language_info": {
   "codemirror_mode": {
    "name": "ipython",
    "version": 3
   },
   "file_extension": ".py",
   "mimetype": "text/x-python",
   "name": "python",
   "nbconvert_exporter": "python",
   "pygments_lexer": "ipython3",
   "version": "3.11.2"
  }
 },
 "nbformat": 4,
 "nbformat_minor": 2
}
