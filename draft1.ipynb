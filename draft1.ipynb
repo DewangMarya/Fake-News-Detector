{
 "cells": [
  {
   "cell_type": "code",
   "execution_count": 27,
   "metadata": {},
   "outputs": [],
   "source": [
    "import pandas as pd\n",
    "from sklearn.model_selection import train_test_split\n",
    "# The reason why we need TF_IDF is that it helps in identifying certain terms in a document (in our case a dataset)\n",
    "from sklearn.feature_extraction.text import TfidfVectorizer\n",
    "from tensorflow.keras.models import Sequential\n",
    "from tensorflow.keras.layers import Dense, Embedding, LSTM, SpatialDropout1D\n",
    "from tensorflow.keras.preprocessing.text import Tokenizer\n",
    "from tensorflow.keras.preprocessing.sequence import pad_sequences\n",
    "from tensorflow.keras.utils import to_categorical"
   ]
  },
  {
   "cell_type": "code",
   "execution_count": 28,
   "metadata": {},
   "outputs": [],
   "source": [
    "df = pd.read_csv('dataset.csv') #We will be loading it later\n",
    "df=df.dropna()"
   ]
  },
  {
   "cell_type": "code",
   "execution_count": 29,
   "metadata": {},
   "outputs": [],
   "source": [
    "# Since the scope of our project is smaller than similar projects, we will be setting limits\n",
    "max_words = 5000\n",
    "max_length = 100\n",
    "\n",
    "tokenizer = Tokenizer(num_words=max_words)\n",
    "# With this, we are trying to update the vocabulary based on the word frequency\n",
    "tokenizer.fit_on_texts(df['title'])\n",
    "# Since neural networks require inputs of the same shape, we need to make sure we have padding\n",
    "sequences = tokenizer.texts_to_sequences(df['title'])\n",
    "X = pad_sequences(sequences, maxlen=max_length)\n",
    "y = to_categorical(df['label'])"
   ]
  },
  {
   "cell_type": "code",
   "execution_count": 30,
   "metadata": {},
   "outputs": [],
   "source": [
    "# Here, we're going to split the dataset into training and testing sets\n",
    "X_train, X_test, y_train, y_test = train_test_split(X, y, test_size=0.2, random_state=42)\n",
    "\n",
    "# This is where we're trying to build the model\n",
    "model = Sequential()\n",
    "model.add(Embedding(max_words, 50, input_length=max_length))\n",
    "model.add(SpatialDropout1D(0.2))\n",
    "model.add(LSTM(100, dropout=0.2, recurrent_dropout=0.2))\n",
    "# Softmax is a mathematical function that takes a vector of real numbers as input and transforms it into a probability  distribution\n",
    "# Reference - https://deepai.org/machine-learning-glossary-and-terms/softmax-layer\n",
    "model.add(Dense(2, activation='softmax'))"
   ]
  },
  {
   "cell_type": "code",
   "execution_count": 31,
   "metadata": {},
   "outputs": [
    {
     "name": "stdout",
     "output_type": "stream",
     "text": [
      "Epoch 1/10\n",
      "18/18 [==============================] - 3s 54ms/step - loss: 0.6802 - accuracy: 0.6077 - val_loss: 0.6697 - val_accuracy: 0.6721\n",
      "Epoch 2/10\n",
      "18/18 [==============================] - 1s 40ms/step - loss: 0.6208 - accuracy: 0.7190 - val_loss: 0.6323 - val_accuracy: 0.7049\n",
      "Epoch 3/10\n",
      "18/18 [==============================] - 1s 40ms/step - loss: 0.4938 - accuracy: 0.7755 - val_loss: 0.5855 - val_accuracy: 0.6721\n",
      "Epoch 4/10\n",
      "18/18 [==============================] - 1s 39ms/step - loss: 0.3383 - accuracy: 0.8796 - val_loss: 0.4918 - val_accuracy: 0.7377\n",
      "Epoch 5/10\n",
      "18/18 [==============================] - 1s 39ms/step - loss: 0.1988 - accuracy: 0.9343 - val_loss: 0.3805 - val_accuracy: 0.7541\n",
      "Epoch 6/10\n",
      "18/18 [==============================] - 1s 40ms/step - loss: 0.1127 - accuracy: 0.9690 - val_loss: 0.3080 - val_accuracy: 0.7869\n",
      "Epoch 7/10\n",
      "18/18 [==============================] - 1s 40ms/step - loss: 0.0646 - accuracy: 0.9854 - val_loss: 0.3223 - val_accuracy: 0.8197\n",
      "Epoch 8/10\n",
      "18/18 [==============================] - 1s 39ms/step - loss: 0.0427 - accuracy: 0.9872 - val_loss: 0.3057 - val_accuracy: 0.8689\n",
      "Epoch 9/10\n",
      "18/18 [==============================] - 1s 41ms/step - loss: 0.0318 - accuracy: 0.9872 - val_loss: 0.2951 - val_accuracy: 0.8689\n",
      "Epoch 10/10\n",
      "18/18 [==============================] - 1s 40ms/step - loss: 0.0232 - accuracy: 0.9945 - val_loss: 0.2930 - val_accuracy: 0.8525\n",
      "5/5 [==============================] - 0s 9ms/step - loss: 0.5981 - accuracy: 0.7908\n",
      "Accuracy: 0.7908496856689453\n"
     ]
    }
   ],
   "source": [
    "model.compile(loss='categorical_crossentropy', optimizer='adam', metrics=['accuracy'])\n",
    "\n",
    "# This is where we're trying to train the model\n",
    "batch_size = 32\n",
    "epochs = 10\n",
    "model.fit(X_train, y_train, epochs=epochs, batch_size=batch_size, validation_split=0.1)\n",
    "\n",
    "# Here, we try to evaluate the model\n",
    "loss, accuracy = model.evaluate(X_test, y_test)\n",
    "print(f'Accuracy: {accuracy}')"
   ]
  },
  {
   "cell_type": "code",
   "execution_count": 32,
   "metadata": {},
   "outputs": [
    {
     "name": "stdout",
     "output_type": "stream",
     "text": [
      "1/1 [==============================] - 0s 187ms/step\n",
      "Predicted Probabilities: [[0.9165709  0.08342909]]\n",
      "Predicted Classes: [0]\n"
     ]
    }
   ],
   "source": [
    "# Make predictions on new data\n",
    "new_data = [\"The news headline (fake or not)\"]\n",
    "new_data_sequences = tokenizer.texts_to_sequences(new_data)\n",
    "new_data_padded = pad_sequences(new_data_sequences, maxlen=max_length)\n",
    "predictions = model.predict(new_data_padded)\n",
    "\n",
    "# This is to print the predicted class probabilities\n",
    "print(f'Predicted Probabilities: {predictions}')\n",
    "\n",
    "# This is to convert predicted probabilities to class labels (fake or true)\n",
    "predicted_classes = [1 if prob[1] > prob[0] else 0 for prob in predictions]\n",
    "print(f'Predicted Classes: {predicted_classes}')"
   ]
  }
 ],
 "metadata": {
  "kernelspec": {
   "display_name": "Python 3",
   "language": "python",
   "name": "python3"
  },
  "language_info": {
   "codemirror_mode": {
    "name": "ipython",
    "version": 3
   },
   "file_extension": ".py",
   "mimetype": "text/x-python",
   "name": "python",
   "nbconvert_exporter": "python",
   "pygments_lexer": "ipython3",
   "version": "3.11.2"
  }
 },
 "nbformat": 4,
 "nbformat_minor": 2
}
